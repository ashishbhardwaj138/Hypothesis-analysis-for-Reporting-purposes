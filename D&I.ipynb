{
 "cells": [
  {
   "cell_type": "markdown",
   "id": "e44489e1",
   "metadata": {},
   "source": [
    "# D&I report - HSBC Contact Center"
   ]
  },
  {
   "cell_type": "raw",
   "id": "7ef206a8",
   "metadata": {},
   "source": [
    "Verticals/Components of D&I:- \n",
    "1. Gender and Age Diversity\n",
    "    This vertical examines how gender and age diversity within the team or organization impacts KPI achievement. These hypotheses highlight the importance of balancing representation and leveraging diverse age groups to improve performance.\n",
    "\n",
    "Hypotheses:\n",
    "    Hypothesis 1: Female agents perform as well as male agents.\n",
    "    Hypothesis 2: Age diversity impacts KPI achievement.\n",
    "    Hypothesis 3: Gender balance within teams correlates with better KPI scores.\n",
    "    Hypothesis 11: Agents working in diverse teams (in terms of gender, age, or other factors) perform better than those in homogeneous teams.\n",
    "\n",
    "2. Work-Life Balance and Flexibility\n",
    "    This vertical addresses the effects of flexible work arrangements (remote work, flexible hours) on employee performance. It also touches on how the company accommodates various work schedules and the impact on inclusivity and KPI outcomes.\n",
    "\n",
    "Hypotheses:\n",
    "    Hypothesis 4: Younger employees perform better when given flexible work arrangements.\n",
    "    Hypothesis 7: Agents working remotely achieve better KPI scores.\n",
    "    Hypothesis 12: Agents with more flexible work schedules (e.g., working from home) achieve better KPI scores.\n",
    "\n",
    "3. Training and Development\n",
    "    This vertical is focused on how providing adequate training and development opportunities impacts agent performance. It evaluates whether investment in learning leads to improved KPIs and increased diversity in skill sets.\n",
    "\n",
    "Hypotheses:\n",
    "    Hypothesis 5: Younger agents receive more training and achieve better KPI scores.\n",
    "    Hypothesis 13: Agents with more training hours perform better on KPIs.\n",
    "\n",
    "4. Team and Manager Inclusivity\n",
    "    This vertical evaluates the role of inclusivity within teams and management. It explores whether diverse leadership styles, inclusive managers, and team skill diversity lead to improved agent performance.\n",
    "\n",
    "Hypotheses:\n",
    "    Hypothesis 6: Agents with inclusive managers perform better.\n",
    "    Hypothesis 10: Larger teams perform better under managers with more inclusive leadership.\n",
    "    Hypothesis 14: Teams with more diverse skill sets perform better.\n",
    "    Hypothesis 16: Agents with more inclusive managers (e.g., managers who promote diversity and inclusion) perform better.\n",
    "\n",
    "5. Minority Group Representation\n",
    "    This vertical focuses on the performance of minority groups within the organization. It aims to assess whether underrepresented groups perform as well as the majority, ensuring equity in opportunities and performance evaluations.\n",
    "\n",
    "Hypotheses:\n",
    "    Hypothesis 8: Female agents are assigned tougher teams.\n",
    "    Hypothesis 9: Minority agents perform as well as majority agents.\n",
    "    Hypothesis 15: Agents from underrepresented groups (e.g., minorities) perform as well as agents from majority groups.\n"
   ]
  },
  {
   "cell_type": "code",
   "execution_count": null,
   "id": "37f0a4a4",
   "metadata": {},
   "outputs": [],
   "source": []
  },
  {
   "cell_type": "code",
   "execution_count": null,
   "id": "3dd24128",
   "metadata": {},
   "outputs": [],
   "source": []
  },
  {
   "cell_type": "markdown",
   "id": "2ef7a84a",
   "metadata": {},
   "source": [
    "# Hypothesis 1: Teams with higher gender diversity have higher KPI achievement rates."
   ]
  },
  {
   "cell_type": "markdown",
   "id": "279b25d3",
   "metadata": {},
   "source": [
    "Hypothesis: Teams with balanced gender diversity (40-60%) have higher KPI achievement rates compared to teams that are not gender-balanced."
   ]
  },
  {
   "cell_type": "code",
   "execution_count": null,
   "id": "8a16b3f3",
   "metadata": {},
   "outputs": [],
   "source": [
    "from scipy import stats\n",
    "import seaborn as sns\n",
    "import matplotlib.pyplot as plt\n",
    "\n",
    "# Calculate the proportion of females in each team\n",
    "df['female_ratio'] = df.groupby('team')['gender'].transform(lambda x: sum(x == 'Female') / len(x))\n",
    "\n",
    "# Define gender-balanced teams (40-60% females) and non-balanced teams\n",
    "diverse_teams = df[(df['female_ratio'] >= 0.4) & (df['female_ratio'] <= 0.6)]\n",
    "non_diverse_teams = df[(df['female_ratio'] < 0.4) | (df['female_ratio'] > 0.6)]\n",
    "\n",
    "# Perform t-test to compare KPI achievement between diverse and non-diverse teams\n",
    "t_stat, p_val = stats.ttest_ind(diverse_teams['KPI_achievement'], non_diverse_teams['KPI_achievement'])\n",
    "print(f\"Hypothesis 1 - T-statistic: {t_stat}, P-value: {p_val}\")\n"
   ]
  },
  {
   "cell_type": "code",
   "execution_count": null,
   "id": "d77f6a9f",
   "metadata": {},
   "outputs": [],
   "source": [
    "# Visualization: Boxplot for Gender Diversity vs KPI Achievement\n",
    "sns.boxplot(x='female_ratio', y='KPI_achievement', data=df)\n",
    "plt.axvline(0.4, color='red', linestyle='--', label='40% Females')\n",
    "plt.axvline(0.6, color='blue', linestyle='--', label='60% Females')\n",
    "plt.title('KPI Achievement by Gender Diversity')\n",
    "plt.xlabel('Gender Diversity (Proportion of Females)')\n",
    "plt.ylabel('KPI Achievement')\n",
    "plt.legend()\n",
    "plt.show()\n"
   ]
  },
  {
   "cell_type": "markdown",
   "id": "769e7db0",
   "metadata": {},
   "source": [
    "# Hypothesis 2: Younger agents (age < 30) tend to achieve higher KPIs."
   ]
  },
  {
   "cell_type": "raw",
   "id": "6c163e5b",
   "metadata": {},
   "source": [
    "Hypothesis: Agents under 30 years old achieve higher KPIs than those aged 30 and above."
   ]
  },
  {
   "cell_type": "code",
   "execution_count": null,
   "id": "049ba536",
   "metadata": {},
   "outputs": [],
   "source": [
    "# Create age-based groups\n",
    "young_agents = df[df['age'] < 30]\n",
    "older_agents = df[df['age'] >= 30]\n",
    "\n",
    "# Perform t-test\n",
    "t_stat, p_val = stats.ttest_ind(young_agents['KPI_achievement'], older_agents['KPI_achievement'])\n",
    "print(f\"Hypothesis 2 - T-statistic: {t_stat}, P-value: {p_val}\")\n"
   ]
  },
  {
   "cell_type": "code",
   "execution_count": null,
   "id": "61e5262c",
   "metadata": {},
   "outputs": [],
   "source": [
    "# Visualization: Barplot for KPI Achievement by Age Group\n",
    "df['age_group'] = pd.cut(df['age'], bins=[0, 30, 40, df['age'].max()], labels=['<30', '30-40', '>40'])\n",
    "sns.barplot(x='age_group', y='KPI_achievement', data=df, ci=None)\n",
    "plt.title('KPI Achievement by Age Group')\n",
    "plt.xlabel('Age Group')\n",
    "plt.ylabel('KPI Achievement')\n",
    "plt.show()\n"
   ]
  },
  {
   "cell_type": "markdown",
   "id": "a8e0a04c",
   "metadata": {},
   "source": [
    "\n",
    "# Hypothesis 3: Teams led by female team leads have higher KPI performance than teams led by male team leads."
   ]
  },
  {
   "cell_type": "code",
   "execution_count": null,
   "id": "9b7a7fc4",
   "metadata": {},
   "outputs": [],
   "source": [
    "# Split based on team lead's gender (assuming we have gender data for team leads)\n",
    "female_lead_teams = df[df['teamlead_name'].str.contains('Female')]\n",
    "male_lead_teams = df[df['teamlead_name'].str.contains('Male')]\n",
    "\n",
    "# Perform t-test\n",
    "t_stat, p_val = stats.ttest_ind(female_lead_teams['KPI_achievement'], male_lead_teams['KPI_achievement'])\n",
    "print(f\"Hypothesis 3 - T-statistic: {t_stat}, P-value: {p_val}\")\n"
   ]
  },
  {
   "cell_type": "code",
   "execution_count": null,
   "id": "8c50089f",
   "metadata": {},
   "outputs": [],
   "source": [
    "# Visualization: Boxplot for Team Lead Gender vs KPI Achievement\n",
    "df['lead_gender'] = df['teamlead_name'].apply(lambda x: 'Female' if 'Female' in x else 'Male')\n",
    "sns.boxplot(x='lead_gender', y='KPI_achievement', data=df)\n",
    "plt.title('KPI Achievement by Team Lead Gender')\n",
    "plt.xlabel('Team Lead Gender')\n",
    "plt.ylabel('KPI Achievement')\n",
    "plt.show()\n"
   ]
  },
  {
   "cell_type": "markdown",
   "id": "433298e5",
   "metadata": {},
   "source": [
    "# Hypothesis 4: Teams with smaller team sizes perform better in terms of KPI achievement."
   ]
  },
  {
   "cell_type": "code",
   "execution_count": null,
   "id": "efd706ac",
   "metadata": {},
   "outputs": [],
   "source": [
    "Hypothesis: Smaller teams (less than 10 members) perform better in terms of KPI achievement."
   ]
  },
  {
   "cell_type": "code",
   "execution_count": null,
   "id": "506bc032",
   "metadata": {},
   "outputs": [],
   "source": [
    "# Create bins for team size (Small, Medium, Large)\n",
    "df['team_size_bin'] = pd.cut(df['team_size'], bins=[0, 10, 20, df['team_size'].max()], labels=['Small', 'Medium', 'Large'])\n",
    "\n",
    "# Perform ANOVA for team size bins\n",
    "anova_results = stats.f_oneway(\n",
    "    df[df['team_size_bin'] == 'Small']['KPI_achievement'],\n",
    "    df[df['team_size_bin'] == 'Medium']['KPI_achievement'],\n",
    "    df[df['team_size_bin'] == 'Large']['KPI_achievement']\n",
    ")\n",
    "print(f\"Hypothesis 4 - F-statistic: {anova_results.statistic}, P-value: {anova_results.pvalue}\")\n"
   ]
  },
  {
   "cell_type": "code",
   "execution_count": null,
   "id": "2517f70a",
   "metadata": {},
   "outputs": [],
   "source": [
    "# Visualization: Boxplot for Team Size vs KPI Achievement\n",
    "sns.boxplot(x='team_size_bin', y='KPI_achievement', data=df)\n",
    "plt.title('KPI Achievement by Team Size')\n",
    "plt.xlabel('Team Size Category')\n",
    "plt.ylabel('KPI Achievement')\n",
    "plt.show()\n"
   ]
  },
  {
   "cell_type": "markdown",
   "id": "d4e72a1c",
   "metadata": {},
   "source": [
    "# Hypothesis 5: No significant difference in KPI achievement between male and female agents.\n"
   ]
  },
  {
   "cell_type": "raw",
   "id": "dde5b02a",
   "metadata": {},
   "source": [
    "Hypothesis: There is no significant difference in KPI performance between male and female agents."
   ]
  },
  {
   "cell_type": "code",
   "execution_count": null,
   "id": "b1a8f451",
   "metadata": {},
   "outputs": [],
   "source": [
    "# Split based on agent's gender\n",
    "female_agents = df[df['gender'] == 'Female']\n",
    "male_agents = df[df['gender'] == 'Male']\n",
    "\n",
    "# Perform t-test\n",
    "t_stat, p_val = stats.ttest_ind(female_agents['KPI_achievement'], male_agents['KPI_achievement'])\n",
    "print(f\"Hypothesis 5 - T-statistic: {t_stat}, P-value: {p_val}\")\n"
   ]
  },
  {
   "cell_type": "code",
   "execution_count": null,
   "id": "4cf01b78",
   "metadata": {},
   "outputs": [],
   "source": [
    "# Visualization: Boxplot for Agent Gender vs KPI Achievement\n",
    "sns.boxplot(x='gender', y='KPI_achievement', data=df)\n",
    "plt.title('KPI Achievement by Agent Gender')\n",
    "plt.xlabel('Agent Gender')\n",
    "plt.ylabel('KPI Achievement')\n",
    "plt.show()\n"
   ]
  },
  {
   "cell_type": "markdown",
   "id": "07fad818",
   "metadata": {},
   "source": [
    "# Hypothesis 6: Teams with diverse tenure perform better.\n"
   ]
  },
  {
   "cell_type": "raw",
   "id": "16382724",
   "metadata": {},
   "source": [
    "Hypothesis: Teams with a mix of junior and senior agents (tenure diversity) perform better in terms of KPI achievement."
   ]
  },
  {
   "cell_type": "code",
   "execution_count": null,
   "id": "f1a6314f",
   "metadata": {},
   "outputs": [],
   "source": [
    "# Define tenure groups (Junior: <2 years, Senior: >= 2 years)\n",
    "df['tenure_group'] = pd.cut(df['tenure'], bins=[0, 2, df['tenure'].max()], labels=['Junior', 'Senior'])\n",
    "\n",
    "# Calculate tenure diversity (mix of junior and senior agents within each team)\n",
    "df['tenure_diversity'] = df.groupby('team')['tenure_group'].transform(lambda x: len(set(x)))\n",
    "\n",
    "# Perform t-test\n",
    "diverse_tenure_teams = df[df['tenure_diversity'] > 1]\n",
    "non_diverse_tenure_teams = df[df['tenure_diversity'] == 1]\n",
    "\n",
    "t_stat, p_val = stats.ttest_ind(diverse_tenure_teams['KPI_achievement'], non_diverse_tenure_teams['KPI_achievement'])\n",
    "print(f\"Hypothesis 6 - T-statistic: {t_stat}, P-value: {p_val}\")\n"
   ]
  },
  {
   "cell_type": "code",
   "execution_count": null,
   "id": "1e93449d",
   "metadata": {},
   "outputs": [],
   "source": [
    "# Visualization: Boxplot for Tenure Diversity vs KPI Achievement\n",
    "sns.boxplot(x='tenure_group', y='KPI_achievement', data=df)\n",
    "plt.title('KPI Achievement by Tenure Group')\n",
    "plt.xlabel('Tenure Group')\n",
    "plt.ylabel('KPI Achievement')\n",
    "plt.show()\n"
   ]
  },
  {
   "cell_type": "markdown",
   "id": "4f9905bc",
   "metadata": {},
   "source": [
    "# Hypothesis 7: Agents with higher tenure (years of experience) achieve better KPIs.\n"
   ]
  },
  {
   "cell_type": "raw",
   "id": "0b066079",
   "metadata": {},
   "source": [
    "Hypothesis: Agents with more years of experience perform better (achieve higher KPI scores) compared to those with fewer years of experience."
   ]
  },
  {
   "cell_type": "code",
   "execution_count": null,
   "id": "6d1fb75a",
   "metadata": {},
   "outputs": [],
   "source": [
    "# Split agents based on their tenure (e.g., Junior: < 2 years, Senior: >= 2 years)\n",
    "junior_agents = df[df['tenure'] < 2]\n",
    "senior_agents = df[df['tenure'] >= 2]\n",
    "\n",
    "# Perform t-test for tenure-based performance differences\n",
    "t_stat, p_val = stats.ttest_ind(junior_agents['KPI_achievement'], senior_agents['KPI_achievement'])\n",
    "print(f\"Hypothesis 7 - T-statistic: {t_stat}, P-value: {p_val}\")\n"
   ]
  },
  {
   "cell_type": "code",
   "execution_count": null,
   "id": "a5cdfc76",
   "metadata": {},
   "outputs": [],
   "source": [
    "# Visualization: Barplot for KPI Achievement by Tenure Group\n",
    "df['tenure_group'] = pd.cut(df['tenure'], bins=[0, 2, 5, df['tenure'].max()], labels=['<2 Years', '2-5 Years', '>5 Years'])\n",
    "sns.barplot(x='tenure_group', y='KPI_achievement', data=df, ci=None)\n",
    "plt.title('KPI Achievement by Tenure Group')\n",
    "plt.xlabel('Tenure Group')\n",
    "plt.ylabel('KPI Achievement')\n",
    "plt.show()\n"
   ]
  },
  {
   "cell_type": "markdown",
   "id": "8abb026a",
   "metadata": {},
   "source": [
    "# Hypothesis 8: Teams with more diverse age groups achieve higher KPIs.\n"
   ]
  },
  {
   "cell_type": "raw",
   "id": "f9a17e92",
   "metadata": {},
   "source": [
    "Hypothesis: Teams with agents from a more diverse range of age groups will perform better than those with less age diversity."
   ]
  },
  {
   "cell_type": "code",
   "execution_count": null,
   "id": "77cdce69",
   "metadata": {},
   "outputs": [],
   "source": [
    "# Calculate age diversity within each team\n",
    "df['age_diversity'] = df.groupby('team')['age'].transform(lambda x: x.std())  # Standard deviation of ages as a measure of diversity\n",
    "\n",
    "# Split into high and low age diversity groups (threshold can be median)\n",
    "median_age_diversity = df['age_diversity'].median()\n",
    "high_age_diversity_teams = df[df['age_diversity'] > median_age_diversity]\n",
    "low_age_diversity_teams = df[df['age_diversity'] <= median_age_diversity]\n",
    "\n",
    "# Perform t-test\n",
    "t_stat, p_val = stats.ttest_ind(high_age_diversity_teams['KPI_achievement'], low_age_diversity_teams['KPI_achievement'])\n",
    "print(f\"Hypothesis 8 - T-statistic: {t_stat}, P-value: {p_val}\")\n"
   ]
  },
  {
   "cell_type": "code",
   "execution_count": null,
   "id": "023197c4",
   "metadata": {},
   "outputs": [],
   "source": [
    "# Visualization: Boxplot for Age Diversity vs KPI Achievement\n",
    "sns.boxplot(x=pd.cut(df['age_diversity'], bins=3), y='KPI_achievement', data=df)\n",
    "plt.title('KPI Achievement by Age Diversity')\n",
    "plt.xlabel('Age Diversity (Group Binned)')\n",
    "plt.ylabel('KPI Achievement')\n",
    "plt.show()\n"
   ]
  },
  {
   "cell_type": "markdown",
   "id": "82d12ccc",
   "metadata": {},
   "source": [
    "# Hypothesis 9: Teams with more female agents perform as well as teams with more male agents."
   ]
  },
  {
   "cell_type": "raw",
   "id": "a448b24e",
   "metadata": {},
   "source": [
    "Hypothesis: There is no significant difference in performance between teams with more female agents and teams with more male agents."
   ]
  },
  {
   "cell_type": "code",
   "execution_count": null,
   "id": "a59548a3",
   "metadata": {},
   "outputs": [],
   "source": [
    "# Calculate the proportion of females in each team\n",
    "df['female_ratio'] = df.groupby('team')['gender'].transform(lambda x: sum(x == 'Female') / len(x))\n",
    "\n",
    "# Define teams with more females and more males\n",
    "more_female_teams = df[df['female_ratio'] > 0.5]\n",
    "more_male_teams = df[df['female_ratio'] <= 0.5]\n",
    "\n",
    "# Perform t-test\n",
    "t_stat, p_val = stats.ttest_ind(more_female_teams['KPI_achievement'], more_male_teams['KPI_achievement'])\n",
    "print(f\"Hypothesis 9 - T-statistic: {t_stat}, P-value: {p_val}\")\n"
   ]
  },
  {
   "cell_type": "code",
   "execution_count": null,
   "id": "5b86db57",
   "metadata": {},
   "outputs": [],
   "source": [
    "# Visualization: Boxplot for KPI Achievement by Female/Male Majority Teams\n",
    "df['gender_majority'] = df['female_ratio'].apply(lambda x: 'More Female' if x > 0.5 else 'More Male')\n",
    "sns.boxplot(x='gender_majority', y='KPI_achievement', data=df)\n",
    "plt.title('KPI Achievement by Gender Majority in Teams')\n",
    "plt.xlabel('Team Gender Majority')\n",
    "plt.ylabel('KPI Achievement')\n",
    "plt.show()\n"
   ]
  },
  {
   "cell_type": "markdown",
   "id": "e28b8b7e",
   "metadata": {},
   "source": [
    "# Hypothesis 10: Teams with larger teams have lower KPI achievements due to challenges in managing larger groups.\n"
   ]
  },
  {
   "cell_type": "raw",
   "id": "41957906",
   "metadata": {},
   "source": [
    "Hypothesis: Larger teams (>20 members) have lower KPI achievements than smaller teams due to potential challenges in coordination."
   ]
  },
  {
   "cell_type": "code",
   "execution_count": null,
   "id": "11481692",
   "metadata": {},
   "outputs": [],
   "source": [
    "# Split teams based on size\n",
    "small_teams = df[df['team_size'] <= 10]\n",
    "medium_teams = df[(df['team_size'] > 10) & (df['team_size'] <= 20)]\n",
    "large_teams = df[df['team_size'] > 20]\n",
    "\n",
    "# Perform ANOVA (comparing small, medium, and large teams)\n",
    "anova_results = stats.f_oneway(\n",
    "    small_teams['KPI_achievement'],\n",
    "    medium_teams['KPI_achievement'],\n",
    "    large_teams['KPI_achievement']\n",
    ")\n",
    "print(f\"Hypothesis 10 - F-statistic: {anova_results.statistic}, P-value: {anova_results.pvalue}\")\n"
   ]
  },
  {
   "cell_type": "code",
   "execution_count": null,
   "id": "6805ae71",
   "metadata": {},
   "outputs": [],
   "source": [
    "# Visualization: Boxplot for Team Size Categories vs KPI Achievement\n",
    "sns.boxplot(x='team_size_bin', y='KPI_achievement', data=df)\n",
    "plt.title('KPI Achievement by Team Size')\n",
    "plt.xlabel('Team Size Category')\n",
    "plt.ylabel('KPI Achievement')\n",
    "plt.show()\n"
   ]
  },
  {
   "cell_type": "markdown",
   "id": "38ec9986",
   "metadata": {},
   "source": [
    "# Hypothesis 11: Agents working in diverse teams (in terms of gender, age, or other factors) perform better than those in homogenous teams.\n"
   ]
  },
  {
   "cell_type": "raw",
   "id": "26181c94",
   "metadata": {},
   "source": [
    "Hypothesis: Agents in teams with higher diversity (measured by age and gender) achieve better KPI scores than those in less diverse teams."
   ]
  },
  {
   "cell_type": "code",
   "execution_count": null,
   "id": "2cfb8b6b",
   "metadata": {},
   "outputs": [],
   "source": [
    "# Create a diversity score: combining gender and age diversity into one metric\n",
    "df['diversity_score'] = df['gender_ratio'] * df['age_diversity']  # Combine gender and age diversity\n",
    "\n",
    "# Split into high and low diversity groups (median as the threshold)\n",
    "median_diversity_score = df['diversity_score'].median()\n",
    "high_diversity_teams = df[df['diversity_score'] > median_diversity_score]\n",
    "low_diversity_teams = df[df['diversity_score'] <= median_diversity_score]\n",
    "\n",
    "# Perform t-test to compare high vs low diversity teams\n",
    "t_stat, p_val = stats.ttest_ind(high_diversity_teams['KPI_achievement'], low_diversity_teams['KPI_achievement'])\n",
    "print(f\"Hypothesis 11 - T-statistic: {t_stat}, P-value: {p_val}\")\n"
   ]
  },
  {
   "cell_type": "code",
   "execution_count": null,
   "id": "a1d31ae7",
   "metadata": {},
   "outputs": [],
   "source": [
    "# Visualization: Boxplot of Diversity Score vs KPI Achievement\n",
    "sns.boxplot(x=pd.cut(df['diversity_score'], bins=3), y='KPI_achievement', data=df)\n",
    "plt.title('KPI Achievement by Diversity Score (Gender + Age)')\n",
    "plt.xlabel('Diversity Score (Group Binned)')\n",
    "plt.ylabel('KPI Achievement')\n",
    "plt.show()\n"
   ]
  },
  {
   "cell_type": "markdown",
   "id": "8406a0d4",
   "metadata": {},
   "source": [
    "# Hypothesis 12: Agents with more flexible work schedules (e.g., working from home) achieve better KPI scores."
   ]
  },
  {
   "cell_type": "raw",
   "id": "e9b23d9c",
   "metadata": {},
   "source": [
    "Hypothesis: Agents with flexible work schedules (e.g., remote work, flexible hours) perform better than those with rigid schedules."
   ]
  },
  {
   "cell_type": "code",
   "execution_count": null,
   "id": "1ddbd03e",
   "metadata": {},
   "outputs": [],
   "source": [
    "# Categorize agents based on work flexibility: Flexible vs Non-Flexible\n",
    "df['work_flexibility'] = df['work_schedule'].apply(lambda x: 'Flexible' if x == 'Remote' or 'Flexible' in x else 'Non-Flexible')\n",
    "\n",
    "# Perform t-test for flexibility-based KPI achievement differences\n",
    "t_stat, p_val = stats.ttest_ind(df[df['work_flexibility'] == 'Flexible']['KPI_achievement'], \n",
    "                                df[df['work_flexibility'] == 'Non-Flexible']['KPI_achievement'])\n",
    "print(f\"Hypothesis 12 - T-statistic: {t_stat}, P-value: {p_val}\")\n"
   ]
  },
  {
   "cell_type": "code",
   "execution_count": null,
   "id": "cf05dd64",
   "metadata": {},
   "outputs": [],
   "source": [
    "# Visualization: Boxplot for KPI Achievement by Work Schedule Flexibility\n",
    "sns.boxplot(x='work_flexibility', y='KPI_achievement', data=df)\n",
    "plt.title('KPI Achievement by Work Schedule Flexibility')\n",
    "plt.xlabel('Work Flexibility (Flexible vs Non-Flexible)')\n",
    "plt.ylabel('KPI Achievement')\n",
    "plt.show()\n"
   ]
  },
  {
   "cell_type": "markdown",
   "id": "1ab4fe2f",
   "metadata": {},
   "source": [
    "# Hypothesis 13: Agents with more training hours perform better on KPIs."
   ]
  },
  {
   "cell_type": "raw",
   "id": "1160ed7f",
   "metadata": {},
   "source": [
    "Hypothesis: Agents who have received more training hours perform better than those who have had fewer training hours."
   ]
  },
  {
   "cell_type": "code",
   "execution_count": null,
   "id": "ccc50548",
   "metadata": {},
   "outputs": [],
   "source": [
    "# Split agents based on their training hours (e.g., above and below median training hours)\n",
    "median_training_hours = df['training_hours'].median()\n",
    "high_training_agents = df[df['training_hours'] > median_training_hours]\n",
    "low_training_agents = df[df['training_hours'] <= median_training_hours]\n",
    "\n",
    "# Perform t-test to compare high vs low training hours on KPI achievement\n",
    "t_stat, p_val = stats.ttest_ind(high_training_agents['KPI_achievement'], low_training_agents['KPI_achievement'])\n",
    "print(f\"Hypothesis 13 - T-statistic: {t_stat}, P-value: {p_val}\")\n"
   ]
  },
  {
   "cell_type": "code",
   "execution_count": null,
   "id": "3c74b82e",
   "metadata": {},
   "outputs": [],
   "source": [
    "# Visualization: Barplot for KPI Achievement by Training Hours Group\n",
    "df['training_group'] = pd.cut(df['training_hours'], bins=[0, median_training_hours, df['training_hours'].max()], \n",
    "                              labels=['Low Training', 'High Training'])\n",
    "sns.barplot(x='training_group', y='KPI_achievement', data=df, ci=None)\n",
    "plt.title('KPI Achievement by Training Hours Group')\n",
    "plt.xlabel('Training Group')\n",
    "plt.ylabel('KPI Achievement')\n",
    "plt.show()\n"
   ]
  },
  {
   "cell_type": "markdown",
   "id": "cb52ccc9",
   "metadata": {},
   "source": [
    "# Hypothesis 14: Teams with more diverse skill sets perform better."
   ]
  },
  {
   "cell_type": "raw",
   "id": "892717df",
   "metadata": {},
   "source": [
    "Hypothesis: Teams with a more diverse range of skills (measured by KPI types or other qualifications) achieve better KPI scores than teams with less diversity in skill sets."
   ]
  },
  {
   "cell_type": "code",
   "execution_count": null,
   "id": "528b95ff",
   "metadata": {},
   "outputs": [],
   "source": [
    "# Calculate skill diversity based on KPI types achieved by agents within each team\n",
    "df['skill_diversity'] = df.groupby('team')['KPI_type'].transform(lambda x: x.nunique())  # Number of unique KPI types as diversity metric\n",
    "\n",
    "# Split into high and low skill diversity groups (median threshold)\n",
    "median_skill_diversity = df['skill_diversity'].median()\n",
    "high_skill_diversity_teams = df[df['skill_diversity'] > median_skill_diversity]\n",
    "low_skill_diversity_teams = df[df['skill_diversity'] <= median_skill_diversity]\n",
    "\n",
    "# Perform t-test to compare skill diversity and KPI achievement\n",
    "t_stat, p_val = stats.ttest_ind(high_skill_diversity_teams['KPI_achievement'], low_skill_diversity_teams['KPI_achievement'])\n",
    "print(f\"Hypothesis 14 - T-statistic: {t_stat}, P-value: {p_val}\")\n"
   ]
  },
  {
   "cell_type": "code",
   "execution_count": null,
   "id": "4c348876",
   "metadata": {},
   "outputs": [],
   "source": [
    "# Visualization: Scatterplot of Skill Diversity vs KPI Achievement\n",
    "sns.scatterplot(x='skill_diversity', y='KPI_achievement', data=df)\n",
    "plt.title('KPI Achievement by Skill Diversity')\n",
    "plt.xlabel('Skill Diversity (Unique KPI Types)')\n",
    "plt.ylabel('KPI Achievement')\n",
    "plt.show()\n"
   ]
  },
  {
   "cell_type": "markdown",
   "id": "18293d94",
   "metadata": {},
   "source": [
    "# Hypothesis 15: Agents from underrepresented groups (e.g., minorities) perform as well as agents from majority groups."
   ]
  },
  {
   "cell_type": "raw",
   "id": "42f730e2",
   "metadata": {},
   "source": [
    "Hypothesis: There is no significant difference in KPI performance between agents from underrepresented groups and those from majority groups."
   ]
  },
  {
   "cell_type": "code",
   "execution_count": null,
   "id": "ea9d75bb",
   "metadata": {},
   "outputs": [],
   "source": [
    "# Create a minority status column (e.g., based on gender, ethnicity, etc.)\n",
    "df['minority_status'] = df['ethnicity'].apply(lambda x: 'Minority' if x in ['Group1', 'Group2'] else 'Majority')\n",
    "\n",
    "# Perform t-test for minority vs majority group KPI achievement\n",
    "t_stat, p_val = stats.ttest_ind(df[df['minority_status'] == 'Minority']['KPI_achievement'], \n",
    "                                df[df['minority_status'] == 'Majority']['KPI_achievement'])\n",
    "print(f\"Hypothesis 15 - T-statistic: {t_stat}, P-value: {p_val}\")\n"
   ]
  },
  {
   "cell_type": "code",
   "execution_count": null,
   "id": "a0ade06f",
   "metadata": {},
   "outputs": [],
   "source": [
    "# Visualization: Boxplot for KPI Achievement by Minority Status\n",
    "sns.boxplot(x='minority_status', y='KPI_achievement', data=df)\n",
    "plt.title('KPI Achievement by Minority vs Majority Group')\n",
    "plt.xlabel('Minority Status')\n",
    "plt.ylabel('KPI Achievement')\n",
    "plt.show()\n"
   ]
  },
  {
   "cell_type": "markdown",
   "id": "4515cbd8",
   "metadata": {},
   "source": [
    "# D&I KPIs"
   ]
  },
  {
   "cell_type": "code",
   "execution_count": null,
   "id": "3e278770",
   "metadata": {},
   "outputs": [],
   "source": [
    "1. Representation and Demographics KPIs\n",
    "    These KPIs assess the composition of the workforce across different diversity dimensions such as gender, ethnicity, age, and more.\n",
    "\n",
    "    a) Gender Diversity Ratio: The ratio of male to female employees or across other gender identities at various levels (entry-level, mid-management, senior leadership).\n",
    "            Formula: (Number of women / Total workforce) x 100\n",
    "    b) Minority Representation: The percentage of employees from underrepresented groups (ethnic minorities, people with disabilities, etc.) in the overall workforce and at different levels.\n",
    "            Formula: (Number of minority group members / Total workforce) x 100\n",
    "    c) Age Diversity Index: Measures the distribution of employees across different age groups and how balanced the workforce is in terms of generational diversity.\n",
    "Workforce Composition by Job Level: Representation of diverse groups (gender, race, etc.) across job levels—entry-level, middle management, and senior leadership.\n",
    "            Formula: (Number of diverse employees at a level / Total employees at that level) x 100\n",
    "\n",
    "            \n",
    "2. Recruitment, Promotion, and Retention KPIs\n",
    "    These KPIs evaluate how well an organization is attracting, advancing, and retaining a diverse workforce.\n",
    "\n",
    "    a) Diverse Hiring Rate: The percentage of new hires who belong to underrepresented groups (e.g., women, ethnic minorities, etc.).\n",
    "            Formula: (Number of diverse hires / Total number of hires) x 100\n",
    "    b) Promotion Rate for Diverse Groups: The rate at which employees from underrepresented groups are promoted compared to the general workforce.\n",
    "            Formula: (Promotions of diverse employees / Total promotions) x 100\n",
    "    c) Retention Rate by Demographics: The percentage of employees from diverse groups retained year-over-year, compared to the general employee population.\n",
    "            Formula: (Number of diverse employees retained / Total diverse employees at start of the year) x 100\n",
    "    d) Turnover Rate by Demographics: The rate at which diverse employees leave the company compared to others.\n",
    "            Formula: (Number of diverse employees who left / Total diverse employees) x 100\n",
    "\n",
    "                \n",
    "3. Pay Equity KPIs\n",
    "    These KPIs assess pay fairness across different groups to ensure equal pay for equal work.\n",
    "\n",
    "    a) Gender Pay Gap: The difference between the average salaries of male and female employees, expressed as a percentage of male earnings.\n",
    "            Formula: ((Male average salary - Female average salary) / Male average salary) x 100\n",
    "    b) Ethnic Pay Gap: The difference in pay between majority ethnic groups and minority ethnic groups.\n",
    "    c) Pay Distribution Across different teams for same Job Levels: The comparison of pay levels between diverse employees and the rest of the workforce across different job levels.\n",
    "\n",
    "4. Inclusive Leadership KPIs\n",
    "    These KPIs evaluate how leaders foster inclusivity in their teams and the organization.\n",
    "\n",
    "    a) Manager Inclusivity Score: An employee-reported measure of how inclusive managers are, based on factors like fairness, bias-free decision-making, and support for diverse team members.\n",
    "            Formula: Derived from employee surveys (average score out of 10, for example)\n",
    "    b) Diverse Leadership Representation: The percentage of leadership positions (e.g., senior managers, directors, C-suite) held by individuals from diverse groups.\n",
    "    c) Inclusive Training Participation: The percentage of managers and employees who have completed diversity, equity, and inclusion training.\n",
    "            Formula: (Number of employees trained in DEI / Total workforce) x 100\n",
    "\n",
    "5. Employee Experience and Sentiment KPIs\n",
    "    These KPIs measure how employees from diverse backgrounds experience the workplace in terms of inclusion, belonging, and engagement.\n",
    "\n",
    "    a) Inclusion Score: A measure of how included employees feel, based on survey responses on topics like voice, belonging, and fair treatment.\n",
    "            Formula: Aggregated score from employee surveys\n",
    "    b) Belonging Index: The percentage of employees who report feeling a sense of belonging within the organization.\n",
    "            Formula: (Employees reporting a sense of belonging / Total survey respondents) x 100\n",
    "    c) Employee Net Promoter Score (eNPS) by Demographics: The willingness of employees from different demographic groups to recommend the organization as a place to work.\n",
    "            Formula: (Percentage of Promoters - Percentage of Detractors)\n",
    "    d) Employee Engagement by Demographics: Measures how engaged diverse employees are compared to the broader employee population.\n",
    "            Formula: (Engagement score of diverse employees / Total engagement score) x 100\n",
    "\n",
    "6. Learning and Development KPIs\n",
    "These KPIs assess whether diverse groups are given equal opportunities for growth and development.\n",
    "\n",
    "Training Participation by Demographics: The percentage of diverse employees who receive training compared to the general workforce.\n",
    "Formula: (Number of diverse employees trained / Total employees trained) x 100\n",
    "Leadership Development Program Participation: The percentage of underrepresented groups enrolled in leadership development programs.\n",
    "Training Completion Rate on D&I Topics: Percentage of employees who have completed mandatory or voluntary diversity training.\n",
    "7. Work-Life Balance and Flexibility KPIs\n",
    "These KPIs measure how work-life balance initiatives are benefiting diverse groups.\n",
    "\n",
    "Flexible Working Arrangement Uptake: The percentage of diverse employees utilizing remote or flexible work options.\n",
    "Formula: (Number of diverse employees with flexible work arrangements / Total diverse employees) x 100\n",
    "Parental Leave Uptake by Gender: The rate at which male and female employees take parental leave.\n",
    "Formula: (Parental leave uptake for each gender / Total eligible employees for that gender) x 100\n",
    "8. Diversity of Suppliers and Stakeholders\n",
    "These KPIs measure how diverse an organization’s suppliers, vendors, and partners are.\n",
    "\n",
    "Diverse Supplier Spend: The percentage of procurement spend on suppliers owned by underrepresented groups (e.g., women-owned, minority-owned businesses).\n",
    "Formula: (Spend on diverse suppliers / Total procurement spend) x 100\n",
    "Supplier Diversity Ratio: The ratio of diverse suppliers compared to the total number of suppliers.\n",
    "Formula: (Number of diverse suppliers / Total suppliers) x 100\n",
    "9. External Recognition and Certification KPIs\n",
    "These KPIs measure the external recognition an organization receives for its diversity and inclusion efforts.\n",
    "\n",
    "Diversity Awards and Recognition: The number of external awards or recognitions received for D&I practices.\n",
    "Diversity Certification Levels: Achieving certifications like those from DiversityInc, Great Place to Work, or Forbes' Best Employers for Diversity.\n"
   ]
  },
  {
   "cell_type": "code",
   "execution_count": null,
   "id": "461b625d",
   "metadata": {},
   "outputs": [],
   "source": []
  }
 ],
 "metadata": {
  "kernelspec": {
   "display_name": "Python 3 (ipykernel)",
   "language": "python",
   "name": "python3"
  },
  "language_info": {
   "codemirror_mode": {
    "name": "ipython",
    "version": 3
   },
   "file_extension": ".py",
   "mimetype": "text/x-python",
   "name": "python",
   "nbconvert_exporter": "python",
   "pygments_lexer": "ipython3",
   "version": "3.11.7"
  }
 },
 "nbformat": 4,
 "nbformat_minor": 5
}
